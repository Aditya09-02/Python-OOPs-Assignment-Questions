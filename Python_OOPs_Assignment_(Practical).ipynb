{
  "nbformat": 4,
  "nbformat_minor": 0,
  "metadata": {
    "colab": {
      "provenance": []
    },
    "kernelspec": {
      "name": "python3",
      "display_name": "Python 3"
    },
    "language_info": {
      "name": "python"
    }
  },
  "cells": [
    {
      "cell_type": "markdown",
      "source": [
        "Q1. Create a parent class Animal with a method speak() that prints a generic message. Create a child class Dog\n",
        "that overrides the speak() method to print \"Bark!\". ?"
      ],
      "metadata": {
        "id": "LmiRWLt7cUgz"
      }
    },
    {
      "cell_type": "code",
      "source": [
        "#Ans.\n",
        "\n",
        "class Animal:\n",
        "    def speak(self):\n",
        "        print(\"Animal makes a sound\")\n",
        "\n",
        "class Dog(Animal):\n",
        "    def speak(self):  # Overriding parent method\n",
        "        print(\"Bark!\")\n",
        "\n",
        "# Create instances\n",
        "animal = Animal()\n",
        "dog = Dog()\n",
        "\n",
        "# Call speak() method\n",
        "animal.speak()  # Output: Animal makes a sound\n",
        "dog.speak()     # Output: Bark!"
      ],
      "metadata": {
        "colab": {
          "base_uri": "https://localhost:8080/"
        },
        "id": "2XUZ1ylMcfH7",
        "outputId": "e7d8da78-0dee-472c-e725-73b285cb18e4"
      },
      "execution_count": 1,
      "outputs": [
        {
          "output_type": "stream",
          "name": "stdout",
          "text": [
            "Animal makes a sound\n",
            "Bark!\n"
          ]
        }
      ]
    },
    {
      "cell_type": "markdown",
      "source": [
        "Q2. Write a program to create an abstract class Shape with a method area(). Derive classes Circle and Rectangle\n",
        "from it and implement the area() method in both. ?"
      ],
      "metadata": {
        "id": "Xu9V8TnresBS"
      }
    },
    {
      "cell_type": "code",
      "source": [
        "# Ans.\n",
        "\n",
        "from abc import ABC, abstractmethod\n",
        "\n",
        "# Abstract class\n",
        "class Shape(ABC):\n",
        "    @abstractmethod\n",
        "    def area(self):\n",
        "        pass  # Must be implemented in subclasses\n",
        "\n",
        "# Derived class: Circle\n",
        "class Circle(Shape):\n",
        "    def __init__(self, radius):\n",
        "        self.radius = radius\n",
        "\n",
        "    def area(self):\n",
        "        return 3.14 * self.radius ** 2  # πr²\n",
        "\n",
        "# Derived class: Rectangle\n",
        "class Rectangle(Shape):\n",
        "    def __init__(self, length, width):\n",
        "        self.length = length\n",
        "        self.width = width\n",
        "\n",
        "    def area(self):\n",
        "        return self.length * self.width  # l × w\n",
        "\n",
        "# Create instances\n",
        "circle = Circle(5)\n",
        "rectangle = Rectangle(4, 6)\n",
        "\n",
        "# Call area() method\n",
        "print(\"Circle Area:\", circle.area())       # Output: 78.5\n",
        "print(\"Rectangle Area:\", rectangle.area()) # Output: 24"
      ],
      "metadata": {
        "colab": {
          "base_uri": "https://localhost:8080/"
        },
        "id": "LbtjwEjYe3gp",
        "outputId": "2331dc90-16bc-4c56-b083-0b9abe593b68"
      },
      "execution_count": 2,
      "outputs": [
        {
          "output_type": "stream",
          "name": "stdout",
          "text": [
            "Circle Area: 78.5\n",
            "Rectangle Area: 24\n"
          ]
        }
      ]
    },
    {
      "cell_type": "markdown",
      "source": [
        "Q3.  Implement a multi-level inheritance scenario where a class Vehicle has an attribute type. Derive a class Car\n",
        "and further derive a class ElectricCar that adds a battery attribute. ?"
      ],
      "metadata": {
        "id": "8EeOvQNse9Jp"
      }
    },
    {
      "cell_type": "code",
      "source": [
        "# Ans.\n",
        "\n",
        "# Base class\n",
        "class Vehicle:\n",
        "    def __init__(self, type):\n",
        "        self.type = type\n",
        "\n",
        "    def show_type(self):\n",
        "        print(f\"Vehicle Type: {self.type}\")\n",
        "\n",
        "# Derived class (inherits from Vehicle)\n",
        "class Car(Vehicle):\n",
        "    def __init__(self, brand, type=\"Car\"):\n",
        "        super().__init__(type)  # Call parent constructor\n",
        "        self.brand = brand\n",
        "\n",
        "    def show_brand(self):\n",
        "        print(f\"Car Brand: {self.brand}\")\n",
        "\n",
        "# Further derived class (inherits from Car)\n",
        "class ElectricCar(Car):\n",
        "    def __init__(self, brand, battery_capacity):\n",
        "        super().__init__(brand)  # Call Car's constructor\n",
        "        self.battery_capacity = battery_capacity\n",
        "\n",
        "    def show_battery(self):\n",
        "        print(f\"Battery Capacity: {self.battery_capacity} kWh\")\n",
        "\n",
        "# Create an instance of ElectricCar\n",
        "tesla = ElectricCar(\"Tesla\", 75)\n",
        "\n",
        "# Call methods\n",
        "tesla.show_type()       # Output: Vehicle Type: Car\n",
        "tesla.show_brand()      # Output: Car Brand: Tesla\n",
        "tesla.show_battery()    # Output: Battery Capacity: 75 kWh"
      ],
      "metadata": {
        "colab": {
          "base_uri": "https://localhost:8080/"
        },
        "id": "a_p4JIldfBVg",
        "outputId": "4cc189a7-4596-4b35-ebbb-80831c024975"
      },
      "execution_count": 3,
      "outputs": [
        {
          "output_type": "stream",
          "name": "stdout",
          "text": [
            "Vehicle Type: Car\n",
            "Car Brand: Tesla\n",
            "Battery Capacity: 75 kWh\n"
          ]
        }
      ]
    },
    {
      "cell_type": "markdown",
      "source": [
        "Q4. Demonstrate polymorphism by creating a base class Bird with a method fly(). Create two derived classes\n",
        "Sparrow and Penguin that override the fly() method. ?\n"
      ],
      "metadata": {
        "id": "X0EhzglKfKLR"
      }
    },
    {
      "cell_type": "code",
      "source": [
        "# Ans.\n",
        "\n",
        "# Base class\n",
        "class Bird:\n",
        "    def fly(self):\n",
        "        print(\"Birds can fly\")\n",
        "\n",
        "# Derived class: Sparrow\n",
        "class Sparrow(Bird):\n",
        "    def fly(self):\n",
        "        print(\"Sparrow flies high\")\n",
        "\n",
        "# Derived class: Penguin\n",
        "class Penguin(Bird):\n",
        "    def fly(self):\n",
        "        print(\"Penguins cannot fly, they swim\")\n",
        "\n",
        "# Create instances\n",
        "birds = [Sparrow(), Penguin()]\n",
        "\n",
        "# Call fly() method (Polymorphism in action)\n",
        "for bird in birds:\n",
        "    bird.fly()"
      ],
      "metadata": {
        "colab": {
          "base_uri": "https://localhost:8080/"
        },
        "id": "3x_fJneJfSgJ",
        "outputId": "b23d0677-a97e-4839-801a-964285c0d2ab"
      },
      "execution_count": 4,
      "outputs": [
        {
          "output_type": "stream",
          "name": "stdout",
          "text": [
            "Sparrow flies high\n",
            "Penguins cannot fly, they swim\n"
          ]
        }
      ]
    },
    {
      "cell_type": "markdown",
      "source": [
        "Q5. Write a program to demonstrate encapsulation by creating a class BankAccount with private attributes\n",
        "balance and methods to deposit, withdraw, and check balance. ?"
      ],
      "metadata": {
        "id": "jldpT1pyflOZ"
      }
    },
    {
      "cell_type": "code",
      "source": [
        "# Ans.\n",
        "\n",
        "class BankAccount:\n",
        "    def __init__(self, initial_balance=0):\n",
        "        self.__balance = initial_balance  # Private attribute\n",
        "\n",
        "    def deposit(self, amount):\n",
        "        if amount > 0:\n",
        "            self.__balance += amount\n",
        "            print(f\"Deposited: ${amount}\")\n",
        "        else:\n",
        "            print(\"Deposit amount must be positive\")\n",
        "\n",
        "    def withdraw(self, amount):\n",
        "        if 0 < amount <= self.__balance:\n",
        "            self.__balance -= amount\n",
        "            print(f\"Withdrawn: ${amount}\")\n",
        "        else:\n",
        "            print(\"Insufficient balance or invalid amount\")\n",
        "\n",
        "    def check_balance(self):\n",
        "        print(f\"Current Balance: ${self.__balance}\")  # Accessing private attribute\n",
        "\n",
        "# Create an account instance\n",
        "account = BankAccount(100)\n",
        "\n",
        "# Perform operations\n",
        "account.deposit(50)      # Deposited: $50\n",
        "account.withdraw(30)     # Withdrawn: $30\n",
        "account.check_balance()  # Current Balance: $120\n",
        "\n",
        "# Trying to access private attribute directly (Not recommended)\n",
        "# print(account.__balance)  # AttributeError"
      ],
      "metadata": {
        "colab": {
          "base_uri": "https://localhost:8080/"
        },
        "id": "iYv4e_lDfpkX",
        "outputId": "7c5b9e82-bd70-4032-f09f-fa3028e6666a"
      },
      "execution_count": 5,
      "outputs": [
        {
          "output_type": "stream",
          "name": "stdout",
          "text": [
            "Deposited: $50\n",
            "Withdrawn: $30\n",
            "Current Balance: $120\n"
          ]
        }
      ]
    },
    {
      "cell_type": "markdown",
      "source": [
        "Q6. Demonstrate runtime polymorphism using a method play() in a base class Instrument. Derive classes Guitar\n",
        "and Piano that implement their own version of play(). ?"
      ],
      "metadata": {
        "id": "65mxd2dEfxzQ"
      }
    },
    {
      "cell_type": "code",
      "source": [
        "# Ans.\n",
        "\n",
        "# Base class\n",
        "class Instrument:\n",
        "    def play(self):\n",
        "        print(\"Playing an instrument\")\n",
        "\n",
        "# Derived class: Guitar\n",
        "class Guitar(Instrument):\n",
        "    def play(self):\n",
        "        print(\"Playing the guitar: Strumming strings\")\n",
        "\n",
        "# Derived class: Piano\n",
        "class Piano(Instrument):\n",
        "    def play(self):\n",
        "        print(\"Playing the piano: Pressing keys\")\n",
        "\n",
        "# Polymorphism in action\n",
        "instruments = [Guitar(), Piano()]\n",
        "\n",
        "for instrument in instruments:\n",
        "    instrument.play()"
      ],
      "metadata": {
        "colab": {
          "base_uri": "https://localhost:8080/"
        },
        "id": "0XlYIczyf2W6",
        "outputId": "d6dc903e-0960-42e4-f311-28588e52e6a6"
      },
      "execution_count": 6,
      "outputs": [
        {
          "output_type": "stream",
          "name": "stdout",
          "text": [
            "Playing the guitar: Strumming strings\n",
            "Playing the piano: Pressing keys\n"
          ]
        }
      ]
    },
    {
      "cell_type": "markdown",
      "source": [
        "Q7. Create a class MathOperations with a class method add_numbers() to add two numbers and a static\n",
        "method subtract_numbers() to subtract two numbers. ?"
      ],
      "metadata": {
        "id": "BuDdgmAxgN_f"
      }
    },
    {
      "cell_type": "code",
      "source": [
        "# Ans.\n",
        "\n",
        "class MathOperations:\n",
        "    @classmethod\n",
        "    def add_numbers(cls, a, b):\n",
        "        return a + b  # Uses class method\n",
        "\n",
        "    @staticmethod\n",
        "    def subtract_numbers(a, b):\n",
        "        return a - b  # Uses static method\n",
        "\n",
        "# Calling class and static methods\n",
        "print(MathOperations.add_numbers(10, 5))   # Output: 15\n",
        "print(MathOperations.subtract_numbers(10, 5))  # Output: 5"
      ],
      "metadata": {
        "colab": {
          "base_uri": "https://localhost:8080/"
        },
        "id": "kGR91rWQgT-X",
        "outputId": "c2119d0c-a761-4afd-851c-79310e8f3a0c"
      },
      "execution_count": 7,
      "outputs": [
        {
          "output_type": "stream",
          "name": "stdout",
          "text": [
            "15\n",
            "5\n"
          ]
        }
      ]
    },
    {
      "cell_type": "markdown",
      "source": [
        "Q8.  Implement a class Person with a class method to count the total number of persons created. ?"
      ],
      "metadata": {
        "id": "8YwadZTogbF_"
      }
    },
    {
      "cell_type": "code",
      "source": [
        "# Ans.\n",
        "\n",
        "class Person:\n",
        "    count = 0  # Class variable to track the number of persons\n",
        "\n",
        "    def __init__(self, name):\n",
        "        self.name = name\n",
        "        Person.count += 1  # Increment count when a new object is created\n",
        "\n",
        "    @classmethod\n",
        "    def total_persons(cls):\n",
        "        return f\"Total persons created: {cls.count}\"\n",
        "\n",
        "# Creating instances\n",
        "p1 = Person(\"Alice\")\n",
        "p2 = Person(\"Bob\")\n",
        "p3 = Person(\"Charlie\")\n",
        "\n",
        "# Calling class method\n",
        "print(Person.total_persons())  # Output: Total persons created: 3"
      ],
      "metadata": {
        "colab": {
          "base_uri": "https://localhost:8080/"
        },
        "id": "0zeLfCOygij_",
        "outputId": "26bb49f7-2554-4c0c-f8fd-00cd19097b8d"
      },
      "execution_count": 8,
      "outputs": [
        {
          "output_type": "stream",
          "name": "stdout",
          "text": [
            "Total persons created: 3\n"
          ]
        }
      ]
    },
    {
      "cell_type": "markdown",
      "source": [
        "Q9. Write a class Fraction with attributes numerator and denominator. Override the str method to display the\n",
        "fraction as \"numerator/denominator\". ?"
      ],
      "metadata": {
        "id": "QRa7rv9ggk9Z"
      }
    },
    {
      "cell_type": "code",
      "source": [
        "# Ans.\n",
        "\n",
        "class Fraction:\n",
        "    def __init__(self, numerator, denominator):\n",
        "        self.numerator = numerator\n",
        "        self.denominator = denominator\n",
        "\n",
        "    def __str__(self):\n",
        "        return f\"{self.numerator}/{self.denominator}\"  # Overriding __str__\n",
        "\n",
        "# Create fraction objects\n",
        "frac1 = Fraction(3, 4)\n",
        "frac2 = Fraction(5, 8)\n",
        "\n",
        "# Print fractions\n",
        "print(frac1)  # Output: 3/4\n",
        "print(frac2)  # Output: 5/8"
      ],
      "metadata": {
        "colab": {
          "base_uri": "https://localhost:8080/"
        },
        "id": "McrfOAsQgsOo",
        "outputId": "42445ae4-9604-47b8-9c3e-2819550c57c5"
      },
      "execution_count": 9,
      "outputs": [
        {
          "output_type": "stream",
          "name": "stdout",
          "text": [
            "3/4\n",
            "5/8\n"
          ]
        }
      ]
    },
    {
      "cell_type": "markdown",
      "source": [
        "Q10.  Demonstrate operator overloading by creating a class Vector and overriding the add method to add two\n",
        "vectors. ?"
      ],
      "metadata": {
        "id": "qctut-8mgu2e"
      }
    },
    {
      "cell_type": "code",
      "source": [
        "# Ans.\n",
        "\n",
        "class Vector:\n",
        "    def __init__(self, x, y):\n",
        "        self.x = x\n",
        "        self.y = y\n",
        "\n",
        "    def __add__(self, other):\n",
        "        return Vector(self.x + other.x, self.y + other.y)  # Overloading +\n",
        "\n",
        "    def __str__(self):\n",
        "        return f\"({self.x}, {self.y})\"\n",
        "\n",
        "# Create vector objects\n",
        "v1 = Vector(2, 3)\n",
        "v2 = Vector(4, 5)\n",
        "\n",
        "# Add two vectors using overloaded +\n",
        "v3 = v1 + v2\n",
        "\n",
        "# Print result\n",
        "print(v3)  # Output: (6, 8)"
      ],
      "metadata": {
        "colab": {
          "base_uri": "https://localhost:8080/"
        },
        "id": "mJ8KbU_2g2xf",
        "outputId": "8fe7c11c-5b56-462a-8399-782d785e923f"
      },
      "execution_count": 10,
      "outputs": [
        {
          "output_type": "stream",
          "name": "stdout",
          "text": [
            "(6, 8)\n"
          ]
        }
      ]
    },
    {
      "cell_type": "markdown",
      "source": [
        "Q11.   Create a class Person with attributes name and age. Add a method greet() that prints \"Hello, my name is\n",
        "{name} and I am {age} years old.\" ?"
      ],
      "metadata": {
        "id": "UjNURzW1g6h4"
      }
    },
    {
      "cell_type": "code",
      "source": [
        "# Ans.\n",
        "\n",
        "class Person:\n",
        "    def __init__(self, name, age):\n",
        "        self.name = name\n",
        "        self.age = age\n",
        "\n",
        "    def greet(self):\n",
        "        print(f\"Hello, my name is {self.name} and I am {self.age} years old.\")\n",
        "\n",
        "# Create an instance\n",
        "person1 = Person(\"Alice\", 25)\n",
        "\n",
        "# Call the greet method\n",
        "person1.greet()"
      ],
      "metadata": {
        "colab": {
          "base_uri": "https://localhost:8080/"
        },
        "id": "AJkWruqOhAZA",
        "outputId": "5278dc57-454c-465c-b06e-c3665b48e6e3"
      },
      "execution_count": 11,
      "outputs": [
        {
          "output_type": "stream",
          "name": "stdout",
          "text": [
            "Hello, my name is Alice and I am 25 years old.\n"
          ]
        }
      ]
    },
    {
      "cell_type": "markdown",
      "source": [
        "Q12.  Implement a class Student with attributes name and grades. Create a method average_grade() to compute\n",
        "the average of the grades ?"
      ],
      "metadata": {
        "id": "DvLuZVOfhGUX"
      }
    },
    {
      "cell_type": "code",
      "source": [
        "# Ans.\n",
        "\n",
        "class Student:\n",
        "    def __init__(self, name, grades):\n",
        "        self.name = name\n",
        "        self.grades = grades  # List of grades\n",
        "\n",
        "    def average_grade(self):\n",
        "        return sum(self.grades) / len(self.grades) if self.grades else 0  # Avoid division by zero\n",
        "\n",
        "# Create an instance\n",
        "student1 = Student(\"Alice\", [85, 90, 78, 92])\n",
        "\n",
        "# Compute and print the average grade\n",
        "print(f\"{student1.name}'s Average Grade: {student1.average_grade():.2f}\")"
      ],
      "metadata": {
        "colab": {
          "base_uri": "https://localhost:8080/"
        },
        "id": "1kpDdJQhhNQX",
        "outputId": "14c2f0f7-91a9-4cb2-dac3-9a2a1d81aeee"
      },
      "execution_count": 12,
      "outputs": [
        {
          "output_type": "stream",
          "name": "stdout",
          "text": [
            "Alice's Average Grade: 86.25\n"
          ]
        }
      ]
    },
    {
      "cell_type": "markdown",
      "source": [
        "Q13.  Create a class Rectangle with methods set_dimensions() to set the dimensions and area() to calculate the\n",
        "area. ?"
      ],
      "metadata": {
        "id": "OQl_CpmkhQWW"
      }
    },
    {
      "cell_type": "code",
      "source": [
        "# Ans.\n",
        "\n",
        "class Rectangle:\n",
        "    def __init__(self):\n",
        "        self.length = 0\n",
        "        self.width = 0\n",
        "\n",
        "    def set_dimensions(self, length, width):\n",
        "        self.length = length\n",
        "        self.width = width\n",
        "\n",
        "    def area(self):\n",
        "        return self.length * self.width\n",
        "\n",
        "# Create an instance\n",
        "rect = Rectangle()\n",
        "\n",
        "# Set dimensions\n",
        "rect.set_dimensions(5, 10)\n",
        "\n",
        "# Calculate and print area\n",
        "print(f\"Rectangle Area: {rect.area()}\")  # Output: 50"
      ],
      "metadata": {
        "colab": {
          "base_uri": "https://localhost:8080/"
        },
        "id": "xT-kZIbChUO2",
        "outputId": "895de505-1d19-4129-8201-f446c8afbdaf"
      },
      "execution_count": 13,
      "outputs": [
        {
          "output_type": "stream",
          "name": "stdout",
          "text": [
            "Rectangle Area: 50\n"
          ]
        }
      ]
    },
    {
      "cell_type": "markdown",
      "source": [
        "Q14. Create a class Employee with a method calculate_salary() that computes the salary based on hours worked\n",
        "and hourly rate. Create a derived class Manager that adds a bonus to the salary. ?"
      ],
      "metadata": {
        "id": "SV8G45Oihek9"
      }
    },
    {
      "cell_type": "code",
      "source": [
        "# Ans.\n",
        "\n",
        "class Employee:\n",
        "    def __init__(self, name, hours_worked, hourly_rate):\n",
        "        self.name = name\n",
        "        self.hours_worked = hours_worked\n",
        "        self.hourly_rate = hourly_rate\n",
        "\n",
        "    def calculate_salary(self):\n",
        "        return self.hours_worked * self.hourly_rate  # Basic salary calculation\n",
        "\n",
        "# Derived class: Manager (inherits from Employee)\n",
        "class Manager(Employee):\n",
        "    def __init__(self, name, hours_worked, hourly_rate, bonus):\n",
        "        super().__init__(name, hours_worked, hourly_rate)  # Call parent constructor\n",
        "        self.bonus = bonus\n",
        "\n",
        "    def calculate_salary(self):\n",
        "        base_salary = super().calculate_salary()  # Call parent method\n",
        "        return base_salary + self.bonus  # Add bonus\n",
        "\n",
        "# Create Employee and Manager objects\n",
        "emp = Employee(\"John\", 40, 20)\n",
        "mgr = Manager(\"Alice\", 40, 30, 500)  # Manager gets a bonus\n",
        "\n",
        "# Compute and print salaries\n",
        "print(f\"{emp.name}'s Salary: ${emp.calculate_salary()}\")  # Output: $800\n",
        "print(f\"{mgr.name}'s Salary: ${mgr.calculate_salary()}\")  # Output: $1700"
      ],
      "metadata": {
        "colab": {
          "base_uri": "https://localhost:8080/"
        },
        "id": "iqsXe78IhmQ-",
        "outputId": "729fadce-39d5-4c74-aac6-c7d065da481a"
      },
      "execution_count": 14,
      "outputs": [
        {
          "output_type": "stream",
          "name": "stdout",
          "text": [
            "John's Salary: $800\n",
            "Alice's Salary: $1700\n"
          ]
        }
      ]
    },
    {
      "cell_type": "markdown",
      "source": [
        "Q15. Create a class Product with attributes name, price, and quantity. Implement a method total_price() that\n",
        "calculates the total price of the product. ?"
      ],
      "metadata": {
        "id": "BHFKZx26hqeN"
      }
    },
    {
      "cell_type": "code",
      "source": [
        "# Ans.\n",
        "\n",
        "class Product:\n",
        "    def __init__(self, name, price, quantity):\n",
        "        self.name = name\n",
        "        self.price = price\n",
        "        self.quantity = quantity\n",
        "\n",
        "    def total_price(self):\n",
        "        return self.price * self.quantity  # Calculate total price\n",
        "\n",
        "# Create an instance\n",
        "product1 = Product(\"Laptop\", 800, 2)\n",
        "\n",
        "# Compute and print total price\n",
        "print(f\"Total price for {product1.quantity} {product1.name}(s): ${product1.total_price()}\")"
      ],
      "metadata": {
        "colab": {
          "base_uri": "https://localhost:8080/"
        },
        "id": "jLjETymxhwK2",
        "outputId": "5cfd0e7e-ecb4-47e4-99cd-7119fdddb45b"
      },
      "execution_count": 15,
      "outputs": [
        {
          "output_type": "stream",
          "name": "stdout",
          "text": [
            "Total price for 2 Laptop(s): $1600\n"
          ]
        }
      ]
    },
    {
      "cell_type": "markdown",
      "source": [
        "Q16. Create a class Animal with an abstract method sound(). Create two derived classes Cow and Sheep that\n",
        "implement the sound() method. ?"
      ],
      "metadata": {
        "id": "CgnT5Zi2hzvd"
      }
    },
    {
      "cell_type": "code",
      "source": [
        "# Ans.\n",
        "\n",
        "from abc import ABC, abstractmethod\n",
        "\n",
        "# Abstract base class\n",
        "class Animal(ABC):\n",
        "    @abstractmethod\n",
        "    def sound(self):\n",
        "        pass  # Abstract method, must be implemented in derived classes\n",
        "\n",
        "# Derived class: Cow\n",
        "class Cow(Animal):\n",
        "    def sound(self):\n",
        "        return \"Moo\"\n",
        "\n",
        "# Derived class: Sheep\n",
        "class Sheep(Animal):\n",
        "    def sound(self):\n",
        "        return \"Baa\"\n",
        "\n",
        "# Create instances\n",
        "cow = Cow()\n",
        "sheep = Sheep()\n",
        "\n",
        "# Call sound method\n",
        "print(f\"Cow says: {cow.sound()}\")  # Output: Cow says: Moo\n",
        "print(f\"Sheep says: {sheep.sound()}\")  # Output: Sheep says: Baa"
      ],
      "metadata": {
        "colab": {
          "base_uri": "https://localhost:8080/"
        },
        "id": "xMdQktAah5Ad",
        "outputId": "ce71d7d4-963b-4234-a3a0-2cd28e4a0c13"
      },
      "execution_count": 16,
      "outputs": [
        {
          "output_type": "stream",
          "name": "stdout",
          "text": [
            "Cow says: Moo\n",
            "Sheep says: Baa\n"
          ]
        }
      ]
    },
    {
      "cell_type": "markdown",
      "source": [
        "Q17. Create a class Book with attributes title, author, and year_published. Add a method get_book_info() that\n",
        "returns a formatted string with the book's details. ?"
      ],
      "metadata": {
        "id": "gwSlWFSAh8zf"
      }
    },
    {
      "cell_type": "code",
      "source": [
        "# Ans.\n",
        "\n",
        "class Book:\n",
        "    def __init__(self, title, author, year_published):\n",
        "        self.title = title\n",
        "        self.author = author\n",
        "        self.year_published = year_published\n",
        "\n",
        "    def get_book_info(self):\n",
        "        return f\"'{self.title}' by {self.author}, published in {self.year_published}\"\n",
        "\n",
        "# Create an instance\n",
        "book1 = Book(\"1984\", \"George Orwell\", 1949)\n",
        "\n",
        "# Get and print book info\n",
        "print(book1.get_book_info())  # Output: '1984' by George Orwell, published in 1949"
      ],
      "metadata": {
        "colab": {
          "base_uri": "https://localhost:8080/"
        },
        "id": "SrG7mTN1iFAt",
        "outputId": "36513f74-5e3f-4fbf-f4df-4fed8a1d5aaf"
      },
      "execution_count": 17,
      "outputs": [
        {
          "output_type": "stream",
          "name": "stdout",
          "text": [
            "'1984' by George Orwell, published in 1949\n"
          ]
        }
      ]
    },
    {
      "cell_type": "markdown",
      "source": [
        "Q18.  Create a class House with attributes address and price. Create a derived class Mansion that adds an\n",
        "attribute number_of_rooms. ?"
      ],
      "metadata": {
        "id": "nLRxTWupiH0s"
      }
    },
    {
      "cell_type": "code",
      "source": [
        "# Ans.\n",
        "\n",
        "# Base class: House\n",
        "class House:\n",
        "    def __init__(self, address, price):\n",
        "        self.address = address\n",
        "        self.price = price\n",
        "\n",
        "    def get_info(self):\n",
        "        return f\"Address: {self.address}, Price: ${self.price}\"\n",
        "\n",
        "# Derived class: Mansion (inherits from House)\n",
        "class Mansion(House):\n",
        "    def __init__(self, address, price, number_of_rooms):\n",
        "        super().__init__(address, price)  # Call parent constructor\n",
        "        self.number_of_rooms = number_of_rooms\n",
        "\n",
        "    def get_info(self):\n",
        "        return f\"{super().get_info()}, Rooms: {self.number_of_rooms}\"\n",
        "\n",
        "# Create instances\n",
        "house1 = House(\"123 Main St\", 250000)\n",
        "mansion1 = Mansion(\"456 Luxury Ave\", 5000000, 10)\n",
        "\n",
        "# Print information\n",
        "print(house1.get_info())   # Output: Address: 123 Main St, Price: $250000\n",
        "print(mansion1.get_info()) # Output: Address: 456 Luxury Ave, Price: $5000000, Rooms: 10"
      ],
      "metadata": {
        "colab": {
          "base_uri": "https://localhost:8080/"
        },
        "id": "QUbdX3mciQDO",
        "outputId": "d28e5f4d-6ed1-4d5b-9251-c405385e2108"
      },
      "execution_count": 18,
      "outputs": [
        {
          "output_type": "stream",
          "name": "stdout",
          "text": [
            "Address: 123 Main St, Price: $250000\n",
            "Address: 456 Luxury Ave, Price: $5000000, Rooms: 10\n"
          ]
        }
      ]
    }
  ]
}