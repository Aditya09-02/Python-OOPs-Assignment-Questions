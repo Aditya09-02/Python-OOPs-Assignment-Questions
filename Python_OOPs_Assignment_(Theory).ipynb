{
  "nbformat": 4,
  "nbformat_minor": 0,
  "metadata": {
    "colab": {
      "provenance": []
    },
    "kernelspec": {
      "name": "python3",
      "display_name": "Python 3"
    },
    "language_info": {
      "name": "python"
    }
  },
  "cells": [
    {
      "cell_type": "markdown",
      "source": [
        "Q1. What is Object-Oriented Programming (OOP)?"
      ],
      "metadata": {
        "id": "H8H-E7wCOKDA"
      }
    },
    {
      "cell_type": "markdown",
      "source": [
        "Ans. Object-Oriented Programming (OOP) is a programming paradigm based on the concept of objects, which encapsulate data (attributes) and behavior (methods). It promotes principles like encapsulation, inheritance, polymorphism, and abstraction, making code more modular, reusable, and easier to maintain."
      ],
      "metadata": {
        "id": "v94ZLisNOaOt"
      }
    },
    {
      "cell_type": "markdown",
      "source": [
        "Q2. What is a class in OOP ?"
      ],
      "metadata": {
        "id": "aRsNbeGiOcjP"
      }
    },
    {
      "cell_type": "markdown",
      "source": [
        "Ans. A class in OOP is a blueprint or template for creating objects. It defines the attributes (data) and methods (behavior) that the objects will have."
      ],
      "metadata": {
        "id": "v7k8OLXVOmPX"
      }
    },
    {
      "cell_type": "markdown",
      "source": [
        "Q3. What is an object in OOP ?"
      ],
      "metadata": {
        "id": "-4v9mFcUOny4"
      }
    },
    {
      "cell_type": "markdown",
      "source": [
        "Ans. An object in OOP is an instance of a class. It has its own data (attributes) and can perform actions (methods) defined by the class."
      ],
      "metadata": {
        "id": "rTDU2xpEOsEq"
      }
    },
    {
      "cell_type": "markdown",
      "source": [
        "Q4. What is the difference between abstraction and encapsulation ?"
      ],
      "metadata": {
        "id": "C6u0VWEDO1sv"
      }
    },
    {
      "cell_type": "markdown",
      "source": [
        "Ans.    Abstraction hides complex implementation and shows only the essential features to the user (e.g., a car's steering system without exposing internal mechanics).\n",
        "\n",
        "Encapsulation hides data within a class and restricts direct access, allowing controlled modification through methods (e.g., private variables with getter and setter methods).\n",
        "\n",
        "\n",
        "\n",
        "\n",
        "\n"
      ],
      "metadata": {
        "id": "dOKfYWi7O85G"
      }
    },
    {
      "cell_type": "markdown",
      "source": [
        "Q5. What are dunder methods in Python ?"
      ],
      "metadata": {
        "id": "7ahbv2CPPBV_"
      }
    },
    {
      "cell_type": "markdown",
      "source": [
        "Ans.  Dunder (double underscore) methods in Python, also called magic methods, are special methods with names that start and end with double underscores (e.g., __init__, __str__). They allow customization of built-in behaviors like object creation, string representation, and operator overloading."
      ],
      "metadata": {
        "id": "Cqw0fkT8PJBe"
      }
    },
    {
      "cell_type": "markdown",
      "source": [
        "Q6. Explain the concept of inheritance in OOP ?"
      ],
      "metadata": {
        "id": "rDBiTW-FPttm"
      }
    },
    {
      "cell_type": "markdown",
      "source": [
        "Ans. Inheritance in OOP allows a class (child/subclass) to inherit attributes and methods from another class (parent/superclass). This promotes code reuse and enables hierarchical relationships between classes."
      ],
      "metadata": {
        "id": "0LSBk2MYP2Gt"
      }
    },
    {
      "cell_type": "markdown",
      "source": [
        "Q7. What is polymorphism in OOP ?"
      ],
      "metadata": {
        "id": "3Dz_UwyeQMju"
      }
    },
    {
      "cell_type": "markdown",
      "source": [
        "Ans. Polymorphism in OOP allows objects of different classes to be treated as instances of the same class through a common interface. It enables method overriding (same method, different behavior in subclasses) and method overloading (same method name, different parameters)."
      ],
      "metadata": {
        "id": "00d4u-M1QU1G"
      }
    },
    {
      "cell_type": "markdown",
      "source": [
        "Q8.  How is encapsulation achieved in Python ?"
      ],
      "metadata": {
        "id": "buRn9ZWzRS_E"
      }
    },
    {
      "cell_type": "markdown",
      "source": [
        "Ans. Encapsulation in Python is achieved using access modifiers:\n",
        "\n",
        "1. Public (name) – Accessible from anywhere.\n",
        "\n",
        "2. Protected (_name) – Indicated by a single underscore; intended for internal use but not strictly enforced.\n",
        "\n",
        "3. Private (__name) – Indicated by double underscores; name-mangled to prevent direct access from outside the class.\n",
        "\n",
        "Controlled access is provided using getter and setter methods:\n",
        "\n",
        "class Example:\n",
        "    def __init__(self, value):\n",
        "        self.__private_var = value  # Private attribute\n",
        "\n",
        "    def get_value(self):  # Getter\n",
        "        return self.__private_var\n",
        "\n",
        "    def set_value(self, value):  # Setter\n",
        "        self.__private_var = value\n",
        "\n",
        "obj = Example(10)\n",
        "print(obj.get_value())  # Access private variable via getter\n",
        "obj.set_value(20)  # Modify via setter"
      ],
      "metadata": {
        "id": "yuMkmXAORfmO"
      }
    },
    {
      "cell_type": "markdown",
      "source": [
        "Q9. What is a constructor in Python ?"
      ],
      "metadata": {
        "id": "PmziOrD1Rw-t"
      }
    },
    {
      "cell_type": "markdown",
      "source": [
        "Ans.  A constructor in Python is a special method __init__() that is automatically called when an object is created. It initializes the object's attributes.\n",
        "\n",
        "Example:\n",
        "\n",
        "class Example:\n",
        "    def __init__(self, value):\n",
        "        self.value = value  # Initializing attribute\n",
        "\n",
        "obj = Example(10)  # Constructor is called"
      ],
      "metadata": {
        "id": "B6GJB8qpR0hl"
      }
    },
    {
      "cell_type": "markdown",
      "source": [
        "Q10. What are class and static methods in Python ?"
      ],
      "metadata": {
        "id": "Hun3E0ibR-bk"
      }
    },
    {
      "cell_type": "markdown",
      "source": [
        "Ans.\n",
        "\n",
        "1. Class Method (@classmethod): Works with the class, not instances. Uses cls as the first parameter.\n",
        "\n",
        "Example:\n",
        "\n",
        "class Example:\n",
        "\n",
        "class_var = \"Hello\"\n",
        "\n",
        "\n",
        "@classmethod\n",
        "\n",
        "def class_method(cls):\n",
        "return cls.class_var  # Accesses class variable\n",
        "\n",
        "print(Example.class_method())  # Accessing class method\n",
        "\n",
        "\n",
        "2. Static Method (@staticmethod): Independent of class and instance. No self or cls parameter.\n",
        "\n",
        "Example:\n",
        "\n",
        "@staticmethod\n",
        "ef static_method():\n",
        "return \"Static Method\"  # No class or instance access\n",
        "\n",
        "print(Example.static_method())  # Accessing static method\n",
        "    \n",
        "\n"
      ],
      "metadata": {
        "id": "S8O2gqMPSDAL"
      }
    },
    {
      "cell_type": "markdown",
      "source": [
        "Q11. What is method overloading in Python ?"
      ],
      "metadata": {
        "id": "mWaWBsw3S6zD"
      }
    },
    {
      "cell_type": "markdown",
      "source": [
        "Ans.  Method overloading in Python allows multiple methods with the same name but different parameters. However, Python does not support true method overloading like some other languages. Instead, it is achieved using default arguments or *args and **kwargs.\n",
        "\n",
        "Example:\n",
        "\n",
        "class Example:\n",
        "  def display(self, a=None, b=None):\n",
        "        if a is not None and b is not None:\n",
        "            print(f\"Two arguments: {a}, {b}\")\n",
        "        elif a is not None:\n",
        "            print(f\"One argument: {a}\")\n",
        "        else:\n",
        "            print(\"No arguments\")\n",
        "\n",
        "obj = Example()\n",
        "obj.display()        # No arguments\n",
        "obj.display(10)      # One argument\n",
        "obj.display(10, 20)  # Two arguments\n"
      ],
      "metadata": {
        "id": "Wl_gdLcOTDEq"
      }
    },
    {
      "cell_type": "markdown",
      "source": [
        "Q12.  What is method overriding in OOP ?"
      ],
      "metadata": {
        "id": "o1GSXDAYTM2M"
      }
    },
    {
      "cell_type": "markdown",
      "source": [
        "Ans. Method overriding in OOP occurs when a child class provides a specific implementation of a method that is already defined in its parent class. The overridden method in the child class replaces the parent class’s method when called on an instance of the child class.\n",
        "\n",
        "Example:\n",
        "\n",
        "class Parent:\n",
        "  def show(self):\n",
        "        print(\"Parent method\")\n",
        "\n",
        "class Child(Parent):\n",
        "  def show(self):  # Overriding parent method\n",
        "        print(\"Child method\")\n",
        "\n",
        "obj = Child()\n",
        "obj.show()  # Output: \"Child method\""
      ],
      "metadata": {
        "id": "WOtAQ6-STXEq"
      }
    },
    {
      "cell_type": "markdown",
      "source": [
        "Q13.  What is a property decorator in Python ?"
      ],
      "metadata": {
        "id": "JqITtzs1Teo0"
      }
    },
    {
      "cell_type": "markdown",
      "source": [
        "Ans. The @property decorator in Python is used to define getter, setter, and deleter methods in a class, allowing controlled access to private attributes while using them like regular attributes.\n",
        "\n",
        "Example:\n",
        "\n",
        "class Example:\n",
        "  def __init__(self, value):\n",
        "        self._value = value  # Private attribute\n",
        "\n",
        "  @property\n",
        "  def value(self):  # Getter\n",
        "        return self._value\n",
        "\n",
        "  @value.setter\n",
        "  def value(self, new_value):  # Setter\n",
        "        self._value = new_value\n",
        "\n",
        "  @value.deleter\n",
        "  def value(self):  # Deleter\n",
        "        del self._value\n",
        "\n",
        "obj = Example(10)\n",
        "print(obj.value)  # Calls getter\n",
        "obj.value = 20  # Calls setter\n",
        "del obj.value  # Calls deleter"
      ],
      "metadata": {
        "id": "1Kivf2m2Uel5"
      }
    },
    {
      "cell_type": "markdown",
      "source": [
        "Q14. Why is polymorphism important in OOP ?"
      ],
      "metadata": {
        "id": "uZQeudOwUrC6"
      }
    },
    {
      "cell_type": "markdown",
      "source": [
        "Ans. Polymorphism is important in OOP because it enhances flexibility, code reusability, and scalability by allowing the same interface to be used for different data types or classes. It enables:\n",
        "\n",
        "1. Method Overriding – Different classes can define their own versions of a method.\n",
        "\n",
        "2. Method Overloading (via *args or default values in Python) – Allows functions to handle different argument types.\n",
        "\n",
        "3. Duck Typing – Objects can be used interchangeably if they implement the required methods, reducing dependencies on specific types.\n",
        "\n",
        "This makes code more maintainable and extensible."
      ],
      "metadata": {
        "id": "hPs1xXRVVqsq"
      }
    },
    {
      "cell_type": "markdown",
      "source": [
        "Q15. What is an abstract class in Python ?"
      ],
      "metadata": {
        "id": "djY5mgBIV0qQ"
      }
    },
    {
      "cell_type": "markdown",
      "source": [
        "Ans.  An abstract class in Python is a class that cannot be instantiated and serves as a blueprint for other classes. It contains at least one abstract method, which must be implemented by subclasses.\n",
        "\n",
        "Abstract classes are created using the ABC module and @abstractmethod decorator.\n",
        "\n",
        "Example:\n",
        "\n",
        "from abc import ABC, abstractmethod\n",
        "\n",
        "class Shape(ABC):\n",
        "  @abstractmethod\n",
        "  def area(self):\n",
        "        pass  # Must be implemented in subclasses\n",
        "\n",
        "class Circle(Shape):\n",
        "  def __init__(self, radius):\n",
        "        self.radius = radius\n",
        "\n",
        "  def area(self):\n",
        "        return 3.14 * self.radius ** 2\n",
        "\n",
        "circle = Circle(5)\n",
        "print(circle.area())  # Works\n",
        "# shape = Shape()  # Error: Cannot instantiate abstract class"
      ],
      "metadata": {
        "id": "L-4HyfcIV7_5"
      }
    },
    {
      "cell_type": "markdown",
      "source": [
        "Q16. What are the advantages of OOP ?"
      ],
      "metadata": {
        "id": "lc7ruPoqWEmx"
      }
    },
    {
      "cell_type": "markdown",
      "source": [
        "Ans. Advantages of OOP:\n",
        "\n",
        "1. Modularity – Code is organized into classes, making it easier to manage.\n",
        "\n",
        "2. Reusability – Inheritance allows code reuse, reducing duplication.\n",
        "\n",
        "3. Encapsulation – Protects data and restricts direct access, improving security.\n",
        "\n",
        "4. Abstraction – Hides complexity, exposing only essential details.\n",
        "\n",
        "5. Polymorphism – Enables flexibility by allowing a common interface for different types.\n",
        "\n",
        "6. Scalability & Maintainability – Easier to update and extend code with minimal changes."
      ],
      "metadata": {
        "id": "UpsKoSiDWLxR"
      }
    },
    {
      "cell_type": "markdown",
      "source": [
        "Q17. What is the difference between a class variable and an instance variable ?"
      ],
      "metadata": {
        "id": "lsVJVsyHWbGi"
      }
    },
    {
      "cell_type": "markdown",
      "source": [
        "Ans.  Class Variable: Shared across all instances of the class. Defined inside the class but outside methods.\n",
        "\n",
        "Instance Variable: Unique to each instance. Defined inside the constructor (__init__) using self.\n",
        "\n",
        "Example:\n",
        "\n",
        "class Example:\n",
        "  class_var = \"I am a class variable\"  # Class variable\n",
        "\n",
        "  def __init__(self, value):\n",
        "        self.instance_var = value  # Instance variable\n",
        "\n",
        "obj1 = Example(10)\n",
        "obj2 = Example(20)\n",
        "\n",
        "print(obj1.class_var)  # Same for all instances\n",
        "print(obj1.instance_var)  # Unique for each instance"
      ],
      "metadata": {
        "id": "D3qWKJGCWi4g"
      }
    },
    {
      "cell_type": "markdown",
      "source": [
        "Q18. What is multiple inheritance in Python ?"
      ],
      "metadata": {
        "id": "ogYUO7n9Wr13"
      }
    },
    {
      "cell_type": "markdown",
      "source": [
        "Ans. Multiple inheritance in Python allows a class to inherit from more than one parent class, enabling it to combine functionalities from multiple sources.\n",
        "\n",
        "Example:\n",
        "\n",
        "class A:\n",
        "  def method_A(self):\n",
        "        print(\"Method from A\")\n",
        "\n",
        "class B:\n",
        "  def method_B(self):\n",
        "        print(\"Method from B\")\n",
        "\n",
        "class C(A, B):  # Multiple inheritance\n",
        "  pass\n",
        "\n",
        "obj = C()\n",
        "obj.method_A()  # Inherited from A\n",
        "obj.method_B()  # Inherited from B\n",
        "\n",
        "This can lead to complexity and ambiguities, which Python resolves using the Method Resolution Order (MRO)."
      ],
      "metadata": {
        "id": "rUAwTvX0YM7u"
      }
    },
    {
      "cell_type": "markdown",
      "source": [
        "Q19. Explain the purpose of ‘’__str__’ and ‘__repr__’ ‘ methods in Python ?"
      ],
      "metadata": {
        "id": "TFPPcSjpYjD_"
      }
    },
    {
      "cell_type": "markdown",
      "source": [
        "Ans.\n",
        "\n",
        "1. __str__(): Returns a user-friendly string representation of an object, used by print() and str().\n",
        "\n",
        "2. __repr__(): Returns an unambiguous, developer-oriented string, often used for debugging (repr()).\n",
        "\n",
        "Example:\n",
        "\n",
        "class Example:\n",
        "  def __init__(self, value):\n",
        "        self.value = value\n",
        "\n",
        "  def __str__(self):\n",
        "        return f\"Example with value {self.value}\"  # User-friendly\n",
        "\n",
        "  def __repr__(self):\n",
        "        return f\"Example({self.value})\"  # Debugging\n",
        "\n",
        "obj = Example(10)\n",
        "print(str(obj))   # Calls __str__\n",
        "print(repr(obj))  # Calls __repr__"
      ],
      "metadata": {
        "id": "aEBBTdqXYrr3"
      }
    },
    {
      "cell_type": "markdown",
      "source": [
        "Q20. What is the significance of the ‘super()’ function in Python ?"
      ],
      "metadata": {
        "id": "o0k6UX_aY2g3"
      }
    },
    {
      "cell_type": "markdown",
      "source": [
        "Ans. The super() function in Python is used to call methods from a parent class inside a child class. It is commonly used to invoke the parent class's constructor (__init__) or other methods, ensuring proper inheritance and avoiding redundant code.\n",
        "\n",
        "Example:\n",
        "\n",
        "class Parent:\n",
        "  def __init__(self):\n",
        "        print(\"Parent constructor\")\n",
        "\n",
        "class Child(Parent):\n",
        "  def __init__(self):\n",
        "        super().__init__()  # Calls Parent's constructor\n",
        "        print(\"Child constructor\")\n",
        "\n",
        "obj = Child()\n",
        "# Output:\n",
        "# Parent constructor\n",
        "# Child constructor\n",
        "\n",
        "This is particularly useful in multiple inheritance to follow the Method Resolution Order (MRO) correctly."
      ],
      "metadata": {
        "id": "qIdwo-oRY-r1"
      }
    },
    {
      "cell_type": "markdown",
      "source": [
        "Q21. What is the significance of the __del__ method in Python ?"
      ],
      "metadata": {
        "id": "wMFb6EUKZHvt"
      }
    },
    {
      "cell_type": "markdown",
      "source": [
        "Ans. The __del__ method in Python is a destructor that is called when an object is about to be destroyed (i.e., when there are no more references to it). It is used for cleanup tasks like closing files or releasing resources.\n",
        "\n",
        "Example:\n",
        "\n",
        "class Example:\n",
        "  def __init__(self):\n",
        "        print(\"Object created\")\n",
        "\n",
        "  def __del__(self):\n",
        "        print(\"Object destroyed\")\n",
        "\n",
        "obj = Example()  \n",
        "del obj  # Explicitly calling destructor\n",
        "\n"
      ],
      "metadata": {
        "id": "RSnUctCxZSk9"
      }
    },
    {
      "cell_type": "markdown",
      "source": [
        "Q22. What is the difference between @staticmethod and @classmethod in Python ?"
      ],
      "metadata": {
        "id": "NSro6UugZb5O"
      }
    },
    {
      "cell_type": "markdown",
      "source": [
        "Ans.    Decorator\n",
        "\n",
        "1. @staticmethod\n",
        "\n",
        "(A) First Parameter - None\n",
        "\n",
        "(B) Accesses Instance (self) - No\n",
        "\n",
        "(C) Accesses Class (cls) - No\n",
        "\n",
        "Use Case - Utility functions that don't depend on instance or class variables.\n",
        "\n",
        "2. @classmethod\n",
        "\n",
        "(A) First Parameter - cls\n",
        "\n",
        "(B) Accesses Instance (self) - No\n",
        "\n",
        "(C) Accesses Class (cls) - Yes\n",
        "\n",
        "Use Case - Methods that operate on the class rather than instances.\n",
        "\n",
        "\n",
        "Example:\n",
        "\n",
        "class Example:\n",
        "  class_var = \"I am a class variable\"\n",
        "\n",
        "  @staticmethod\n",
        "  def static_method():\n",
        "        return \"I don’t need class or instance\"\n",
        "\n",
        "  @classmethod\n",
        "  def class_method(cls):\n",
        "        return f\"Accessing: {cls.class_var}\"\n",
        "\n",
        "print(Example.static_method())  # Calls static method\n",
        "print(Example.class_method())   # Calls class method"
      ],
      "metadata": {
        "id": "McMcV6GDZpkG"
      }
    },
    {
      "cell_type": "markdown",
      "source": [
        "Q23. How does polymorphism work in Python with inheritance ?"
      ],
      "metadata": {
        "id": "wBSRXvNDaXl9"
      }
    },
    {
      "cell_type": "markdown",
      "source": [
        "Ans.    In Python, polymorphism with inheritance allows a child class to override a method from its parent class while maintaining the same method name. This enables dynamic method resolution at runtime.\n",
        "\n",
        "Example:\n",
        "\n",
        "class Animal:\n",
        "  def make_sound(self):\n",
        "        return \"Some sound\"\n",
        "\n",
        "class Dog(Animal):\n",
        "  def make_sound(self):\n",
        "        return \"Bark\"\n",
        "\n",
        "class Cat(Animal):\n",
        "  def make_sound(self):\n",
        "        return \"Meow\"\n",
        "\n",
        "# Polymorphism in action\n",
        "animals = [Dog(), Cat()]\n",
        "\n",
        "for animal in animals:\n",
        "print(animal.make_sound())  # Calls overridden method\n",
        "\n",
        "Key Benefit:\n",
        "\n",
        "1. Allows different behaviors for the same method name in different subclasses, enhancing flexibility and code reusability."
      ],
      "metadata": {
        "id": "-_O2z_QIagBu"
      }
    },
    {
      "cell_type": "markdown",
      "source": [
        "Q24. What is method chaining in Python OOP ?"
      ],
      "metadata": {
        "id": "al59MjH1awBt"
      }
    },
    {
      "cell_type": "markdown",
      "source": [
        "Ans.    Method chaining in Python OOP allows multiple method calls on the same object in a single statement by returning self from each method. This makes the code more concise and readable.\n",
        "\n",
        "Example:\n",
        "\n",
        "class Example:\n",
        "  def __init__(self, value):\n",
        "        self.value = value\n",
        "\n",
        "  def add(self, num):\n",
        "        self.value += num\n",
        "        return self  # Returns self for chaining\n",
        "\n",
        "  def multiply(self, num):\n",
        "        self.value *= num\n",
        "        return self  # Returns self for chaining\n",
        "\n",
        "  def display(self):\n",
        "        print(f\"Value: {self.value}\")\n",
        "        return self  # Returns self for further chaining\n",
        "\n",
        "# Using method chaining\n",
        "obj = Example(10)\n",
        "obj.add(5).multiply(2).display()  # Output: Value:\n",
        "\n",
        "Key Benefit:\n",
        "\n",
        "1. Makes code more concise and fluent by reducing redundant variable assignments."
      ],
      "metadata": {
        "id": "o29x--5Za4Zm"
      }
    },
    {
      "cell_type": "markdown",
      "source": [
        "Q25. What is the purpose of the __call__ method in Python ?"
      ],
      "metadata": {
        "id": "l1fZl0c6bSFb"
      }
    },
    {
      "cell_type": "markdown",
      "source": [
        "Ans.    The __call__ method in Python allows an instance of a class to be called like a function. This makes objects callable and can be useful for function-like behaviors while maintaining state.\n",
        "\n",
        "Example:\n",
        "\n",
        "\n",
        "class Example:\n",
        "  def __init__(self, value):\n",
        "        self.value = value\n",
        "\n",
        "  def __call__(self, num):\n",
        "        return self.value + num  # Allows instance to be called like a function\n",
        "\n",
        "obj = Example(10)\n",
        "print(obj(5))  # Output: 15 (obj acts like a function)\n",
        "\n",
        "Key Benefits:\n",
        "\n",
        "1. Enables function-like behavior for objects.\n",
        "\n",
        "2. Useful in decorators, caching, and function wrappers."
      ],
      "metadata": {
        "id": "J2IT8LjQbXZM"
      }
    }
  ]
}